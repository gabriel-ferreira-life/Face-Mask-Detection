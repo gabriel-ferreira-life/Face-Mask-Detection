{
 "cells": [
  {
   "cell_type": "code",
   "execution_count": 1,
   "metadata": {},
   "outputs": [],
   "source": [
    "import pandas as pd\n",
    "import numpy as np\n",
    "import gdown\n",
    "import json\n",
    "import sys\n",
    "import os\n",
    "import warnings\n",
    "warnings.filterwarnings('ignore')\n",
    "pd.set_option('display.max_columns', 20)\n",
    "\n",
    "from ultralytics import YOLO"
   ]
  },
  {
   "cell_type": "code",
   "execution_count": 2,
   "metadata": {},
   "outputs": [],
   "source": [
    "# cwd = os.getcwd()\n",
    "# parent_dir = os.path.dirname(cwd)\n",
    "\n",
    "# # Construct the path to the config.json file in the parent directory's config folder\n",
    "# config_path = os.path.join(parent_dir, 'config.json')\n",
    "\n",
    "# Load the config file\n",
    "with open('config.json', 'r') as f:\n",
    "    config = json.load(f)\n",
    "\n",
    "file_id = config['file_id']\n",
    "url = config['url'].replace(\"file_id\", file_id)\n",
    "model_output_path = config['model_output_path']\n",
    "model_output_file = config['model_output_file']\n",
    "model_loc = os.path.join(model_output_path, model_output_file)\n",
    "inference_files_path = config['inference_files_path']\n",
    "prediction_files_path = config['prediction_files_path']"
   ]
  },
  {
   "cell_type": "code",
   "execution_count": null,
   "metadata": {},
   "outputs": [
    {
     "name": "stdout",
     "output_type": "stream",
     "text": [
      "Downloading model from cloud...\n"
     ]
    },
    {
     "data": {
      "text/plain": [
       "'../Model/yolo11n.pt'"
      ]
     },
     "execution_count": 14,
     "metadata": {},
     "output_type": "execute_result"
    }
   ],
   "source": [
    "# # Download model\n",
    "# print(\"Downloading model from cloud...\")\n",
    "# if not os.path.exists(model_output_path):\n",
    "#     os.makedirs(model_output_path)\n",
    "# gdown.download(url, model_loc, quiet=True)"
   ]
  },
  {
   "cell_type": "code",
   "execution_count": 3,
   "metadata": {},
   "outputs": [
    {
     "data": {
      "text/plain": [
       "'/Users/gabrielvictorgomesferreira/artificial_intelligence/isu_classes/projects/Face-Mask-Detection/data/inference/labels'"
      ]
     },
     "execution_count": 3,
     "metadata": {},
     "output_type": "execute_result"
    }
   ],
   "source": [
    "# Resolve absolute paths\n",
    "inference_files_path = os.path.abspath(inference_files_path)\n",
    "prediction_files_path = os.path.abspath(prediction_files_path)\n",
    "prediction_files_path"
   ]
  },
  {
   "cell_type": "code",
   "execution_count": 5,
   "metadata": {},
   "outputs": [
    {
     "name": "stdout",
     "output_type": "stream",
     "text": [
      "Ultralytics 8.3.37 🚀 Python-3.11.0 torch-2.2.2 CPU (Intel Core(TM) i5-8257U 1.40GHz)\n",
      "YOLO11n summary (fused): 238 layers, 2,582,737 parameters, 0 gradients, 6.3 GFLOPs\n",
      "\n",
      "2024-12-01 15:43:59.654 python[43216:5790194] +[IMKClient subclass]: chose IMKClient_Modern\n",
      "2024-12-01 15:43:59.654 python[43216:5790194] +[IMKInputSession subclass]: chose IMKInputSession_Modern\n",
      "image 1/7 /Users/gabrielvictorgomesferreira/artificial_intelligence/isu_classes/projects/Face-Mask-Detection/data/inference/images/maksssksksss9.png: 640x448 1 without_mask, 1 mask_weared_incorrect, 98.4ms\n",
      "image 2/7 /Users/gabrielvictorgomesferreira/artificial_intelligence/isu_classes/projects/Face-Mask-Detection/data/inference/images/maksssksksss90.png: 448x640 1 without_mask, 10 with_masks, 98.0ms\n",
      "image 3/7 /Users/gabrielvictorgomesferreira/artificial_intelligence/isu_classes/projects/Face-Mask-Detection/data/inference/images/maksssksksss91.png: 384x640 5 with_masks, 92.3ms\n",
      "image 4/7 /Users/gabrielvictorgomesferreira/artificial_intelligence/isu_classes/projects/Face-Mask-Detection/data/inference/images/maksssksksss93.png: 448x640 10 with_masks, 85.8ms\n",
      "image 5/7 /Users/gabrielvictorgomesferreira/artificial_intelligence/isu_classes/projects/Face-Mask-Detection/data/inference/images/maksssksksss94.png: 384x640 2 without_masks, 5 with_masks, 1 mask_weared_incorrect, 91.9ms\n",
      "video 6/7 (frame 1/420) /Users/gabrielvictorgomesferreira/artificial_intelligence/isu_classes/projects/Face-Mask-Detection/data/inference/images/video_test.mp4: 384x640 1 without_mask, 4 with_masks, 86.1ms\n",
      "video 6/7 (frame 2/420) /Users/gabrielvictorgomesferreira/artificial_intelligence/isu_classes/projects/Face-Mask-Detection/data/inference/images/video_test.mp4: 384x640 5 with_masks, 103.5ms\n",
      "video 6/7 (frame 3/420) /Users/gabrielvictorgomesferreira/artificial_intelligence/isu_classes/projects/Face-Mask-Detection/data/inference/images/video_test.mp4: 384x640 5 with_masks, 303.3ms\n",
      "video 6/7 (frame 4/420) /Users/gabrielvictorgomesferreira/artificial_intelligence/isu_classes/projects/Face-Mask-Detection/data/inference/images/video_test.mp4: 384x640 4 with_masks, 139.9ms\n",
      "video 6/7 (frame 5/420) /Users/gabrielvictorgomesferreira/artificial_intelligence/isu_classes/projects/Face-Mask-Detection/data/inference/images/video_test.mp4: 384x640 1 without_mask, 4 with_masks, 122.2ms\n",
      "video 6/7 (frame 6/420) /Users/gabrielvictorgomesferreira/artificial_intelligence/isu_classes/projects/Face-Mask-Detection/data/inference/images/video_test.mp4: 384x640 1 without_mask, 5 with_masks, 87.4ms\n",
      "video 6/7 (frame 7/420) /Users/gabrielvictorgomesferreira/artificial_intelligence/isu_classes/projects/Face-Mask-Detection/data/inference/images/video_test.mp4: 384x640 6 with_masks, 84.3ms\n",
      "video 6/7 (frame 8/420) /Users/gabrielvictorgomesferreira/artificial_intelligence/isu_classes/projects/Face-Mask-Detection/data/inference/images/video_test.mp4: 384x640 6 with_masks, 88.3ms\n",
      "video 6/7 (frame 9/420) /Users/gabrielvictorgomesferreira/artificial_intelligence/isu_classes/projects/Face-Mask-Detection/data/inference/images/video_test.mp4: 384x640 5 with_masks, 90.2ms\n",
      "video 6/7 (frame 10/420) /Users/gabrielvictorgomesferreira/artificial_intelligence/isu_classes/projects/Face-Mask-Detection/data/inference/images/video_test.mp4: 384x640 6 with_masks, 90.3ms\n",
      "video 6/7 (frame 11/420) /Users/gabrielvictorgomesferreira/artificial_intelligence/isu_classes/projects/Face-Mask-Detection/data/inference/images/video_test.mp4: 384x640 9 with_masks, 85.7ms\n",
      "video 6/7 (frame 12/420) /Users/gabrielvictorgomesferreira/artificial_intelligence/isu_classes/projects/Face-Mask-Detection/data/inference/images/video_test.mp4: 384x640 8 with_masks, 103.3ms\n",
      "video 6/7 (frame 13/420) /Users/gabrielvictorgomesferreira/artificial_intelligence/isu_classes/projects/Face-Mask-Detection/data/inference/images/video_test.mp4: 384x640 1 without_mask, 7 with_masks, 89.3ms\n",
      "video 6/7 (frame 14/420) /Users/gabrielvictorgomesferreira/artificial_intelligence/isu_classes/projects/Face-Mask-Detection/data/inference/images/video_test.mp4: 384x640 1 without_mask, 10 with_masks, 94.3ms\n",
      "video 6/7 (frame 15/420) /Users/gabrielvictorgomesferreira/artificial_intelligence/isu_classes/projects/Face-Mask-Detection/data/inference/images/video_test.mp4: 384x640 8 with_masks, 89.8ms\n",
      "video 6/7 (frame 16/420) /Users/gabrielvictorgomesferreira/artificial_intelligence/isu_classes/projects/Face-Mask-Detection/data/inference/images/video_test.mp4: 384x640 9 with_masks, 96.1ms\n",
      "video 6/7 (frame 17/420) /Users/gabrielvictorgomesferreira/artificial_intelligence/isu_classes/projects/Face-Mask-Detection/data/inference/images/video_test.mp4: 384x640 7 with_masks, 100.2ms\n",
      "video 6/7 (frame 18/420) /Users/gabrielvictorgomesferreira/artificial_intelligence/isu_classes/projects/Face-Mask-Detection/data/inference/images/video_test.mp4: 384x640 9 with_masks, 104.3ms\n",
      "video 6/7 (frame 19/420) /Users/gabrielvictorgomesferreira/artificial_intelligence/isu_classes/projects/Face-Mask-Detection/data/inference/images/video_test.mp4: 384x640 7 with_masks, 108.2ms\n",
      "video 6/7 (frame 20/420) /Users/gabrielvictorgomesferreira/artificial_intelligence/isu_classes/projects/Face-Mask-Detection/data/inference/images/video_test.mp4: 384x640 1 without_mask, 8 with_masks, 102.7ms\n",
      "video 6/7 (frame 21/420) /Users/gabrielvictorgomesferreira/artificial_intelligence/isu_classes/projects/Face-Mask-Detection/data/inference/images/video_test.mp4: 384x640 6 with_masks, 98.4ms\n",
      "video 6/7 (frame 22/420) /Users/gabrielvictorgomesferreira/artificial_intelligence/isu_classes/projects/Face-Mask-Detection/data/inference/images/video_test.mp4: 384x640 7 with_masks, 96.7ms\n",
      "video 6/7 (frame 23/420) /Users/gabrielvictorgomesferreira/artificial_intelligence/isu_classes/projects/Face-Mask-Detection/data/inference/images/video_test.mp4: 384x640 7 with_masks, 130.4ms\n",
      "video 6/7 (frame 24/420) /Users/gabrielvictorgomesferreira/artificial_intelligence/isu_classes/projects/Face-Mask-Detection/data/inference/images/video_test.mp4: 384x640 1 without_mask, 5 with_masks, 118.4ms\n",
      "video 6/7 (frame 25/420) /Users/gabrielvictorgomesferreira/artificial_intelligence/isu_classes/projects/Face-Mask-Detection/data/inference/images/video_test.mp4: 384x640 6 with_masks, 108.7ms\n",
      "video 6/7 (frame 26/420) /Users/gabrielvictorgomesferreira/artificial_intelligence/isu_classes/projects/Face-Mask-Detection/data/inference/images/video_test.mp4: 384x640 8 with_masks, 94.0ms\n",
      "video 6/7 (frame 27/420) /Users/gabrielvictorgomesferreira/artificial_intelligence/isu_classes/projects/Face-Mask-Detection/data/inference/images/video_test.mp4: 384x640 6 with_masks, 96.1ms\n",
      "video 6/7 (frame 28/420) /Users/gabrielvictorgomesferreira/artificial_intelligence/isu_classes/projects/Face-Mask-Detection/data/inference/images/video_test.mp4: 384x640 8 with_masks, 95.3ms\n",
      "video 6/7 (frame 29/420) /Users/gabrielvictorgomesferreira/artificial_intelligence/isu_classes/projects/Face-Mask-Detection/data/inference/images/video_test.mp4: 384x640 5 with_masks, 98.2ms\n",
      "video 6/7 (frame 30/420) /Users/gabrielvictorgomesferreira/artificial_intelligence/isu_classes/projects/Face-Mask-Detection/data/inference/images/video_test.mp4: 384x640 7 with_masks, 95.7ms\n",
      "video 6/7 (frame 31/420) /Users/gabrielvictorgomesferreira/artificial_intelligence/isu_classes/projects/Face-Mask-Detection/data/inference/images/video_test.mp4: 384x640 1 without_mask, 7 with_masks, 101.2ms\n",
      "video 6/7 (frame 32/420) /Users/gabrielvictorgomesferreira/artificial_intelligence/isu_classes/projects/Face-Mask-Detection/data/inference/images/video_test.mp4: 384x640 6 with_masks, 103.3ms\n",
      "video 6/7 (frame 33/420) /Users/gabrielvictorgomesferreira/artificial_intelligence/isu_classes/projects/Face-Mask-Detection/data/inference/images/video_test.mp4: 384x640 6 with_masks, 116.8ms\n",
      "video 6/7 (frame 34/420) /Users/gabrielvictorgomesferreira/artificial_intelligence/isu_classes/projects/Face-Mask-Detection/data/inference/images/video_test.mp4: 384x640 8 with_masks, 139.4ms\n",
      "video 6/7 (frame 35/420) /Users/gabrielvictorgomesferreira/artificial_intelligence/isu_classes/projects/Face-Mask-Detection/data/inference/images/video_test.mp4: 384x640 6 with_masks, 102.4ms\n",
      "video 6/7 (frame 36/420) /Users/gabrielvictorgomesferreira/artificial_intelligence/isu_classes/projects/Face-Mask-Detection/data/inference/images/video_test.mp4: 384x640 7 with_masks, 107.4ms\n",
      "video 6/7 (frame 37/420) /Users/gabrielvictorgomesferreira/artificial_intelligence/isu_classes/projects/Face-Mask-Detection/data/inference/images/video_test.mp4: 384x640 8 with_masks, 108.9ms\n",
      "video 6/7 (frame 38/420) /Users/gabrielvictorgomesferreira/artificial_intelligence/isu_classes/projects/Face-Mask-Detection/data/inference/images/video_test.mp4: 384x640 8 with_masks, 102.6ms\n",
      "video 6/7 (frame 39/420) /Users/gabrielvictorgomesferreira/artificial_intelligence/isu_classes/projects/Face-Mask-Detection/data/inference/images/video_test.mp4: 384x640 7 with_masks, 97.1ms\n",
      "^C\n",
      "Traceback (most recent call last):\n",
      "  File \"/Users/gabrielvictorgomesferreira/opt/anaconda3/envs/face_mask_detection_env/bin/yolo\", line 8, in <module>\n",
      "    sys.exit(entrypoint())\n",
      "             ^^^^^^^^^^^^\n",
      "  File \"/Users/gabrielvictorgomesferreira/opt/anaconda3/envs/face_mask_detection_env/lib/python3.11/site-packages/ultralytics/cfg/__init__.py\", line 969, in entrypoint\n",
      "    getattr(model, mode)(**overrides)  # default args from model\n",
      "    ^^^^^^^^^^^^^^^^^^^^^^^^^^^^^^^^^\n",
      "  File \"/Users/gabrielvictorgomesferreira/opt/anaconda3/envs/face_mask_detection_env/lib/python3.11/site-packages/ultralytics/engine/model.py\", line 554, in predict\n",
      "    return self.predictor.predict_cli(source=source) if is_cli else self.predictor(source=source, stream=stream)\n",
      "           ^^^^^^^^^^^^^^^^^^^^^^^^^^^^^^^^^^^^^^^^^\n",
      "  File \"/Users/gabrielvictorgomesferreira/opt/anaconda3/envs/face_mask_detection_env/lib/python3.11/site-packages/ultralytics/engine/predictor.py\", line 188, in predict_cli\n",
      "    for _ in gen:  # sourcery skip: remove-empty-nested-block, noqa\n",
      "  File \"/Users/gabrielvictorgomesferreira/opt/anaconda3/envs/face_mask_detection_env/lib/python3.11/site-packages/torch/utils/_contextlib.py\", line 56, in generator_context\n",
      "    response = gen.send(request)\n",
      "               ^^^^^^^^^^^^^^^^^\n",
      "  File \"/Users/gabrielvictorgomesferreira/opt/anaconda3/envs/face_mask_detection_env/lib/python3.11/site-packages/ultralytics/engine/predictor.py\", line 279, in stream_inference\n",
      "    s[i] += self.write_results(i, Path(paths[i]), im, s)\n",
      "            ^^^^^^^^^^^^^^^^^^^^^^^^^^^^^^^^^^^^^^^^^^^^\n",
      "  File \"/Users/gabrielvictorgomesferreira/opt/anaconda3/envs/face_mask_detection_env/lib/python3.11/site-packages/ultralytics/engine/predictor.py\", line 357, in write_results\n",
      "    self.show(str(p))\n",
      "  File \"/Users/gabrielvictorgomesferreira/opt/anaconda3/envs/face_mask_detection_env/lib/python3.11/site-packages/ultralytics/engine/predictor.py\", line 398, in show\n",
      "    cv2.imshow(p, im)\n",
      "KeyboardInterrupt\n"
     ]
    }
   ],
   "source": [
    "!yolo task=detect mode=predict \\\n",
    "    model={model_loc} \\\n",
    "    source={inference_files_path} \\\n",
    "    project=../data/inference \\\n",
    "    name=labels \\\n",
    "    exist_ok=True \\\n",
    "    show=True"
   ]
  }
 ],
 "metadata": {
  "kernelspec": {
   "display_name": "face_mask_detection_env",
   "language": "python",
   "name": "python3"
  },
  "language_info": {
   "codemirror_mode": {
    "name": "ipython",
    "version": 3
   },
   "file_extension": ".py",
   "mimetype": "text/x-python",
   "name": "python",
   "nbconvert_exporter": "python",
   "pygments_lexer": "ipython3",
   "version": "3.11.0"
  }
 },
 "nbformat": 4,
 "nbformat_minor": 2
}
